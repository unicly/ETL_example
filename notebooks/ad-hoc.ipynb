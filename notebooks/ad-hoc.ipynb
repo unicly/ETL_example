{
 "cells": [
  {
   "cell_type": "markdown",
   "metadata": {},
   "source": [
    "# Ad-hoc\n",
    "\n",
    "Extract from the JSON produced by the data pipeline the name of the journal that mentions the most drugs."
   ]
  },
  {
   "cell_type": "markdown",
   "metadata": {},
   "source": [
    "## Import libraries"
   ]
  },
  {
   "cell_type": "code",
   "execution_count": 1,
   "metadata": {},
   "outputs": [],
   "source": [
    "import json\n",
    "import pandas as pd\n",
    "from dotenv import dotenv_values\n",
    "\n",
    "config = dotenv_values(\"../.env\")"
   ]
  },
  {
   "cell_type": "markdown",
   "metadata": {},
   "source": [
    "## Read the JSON file\n",
    "\n",
    "Read the data from the JSON file that is created by the pipeline."
   ]
  },
  {
   "cell_type": "code",
   "execution_count": 2,
   "metadata": {},
   "outputs": [
    {
     "data": {
      "text/html": [
       "<div>\n",
       "<style scoped>\n",
       "    .dataframe tbody tr th:only-of-type {\n",
       "        vertical-align: middle;\n",
       "    }\n",
       "\n",
       "    .dataframe tbody tr th {\n",
       "        vertical-align: top;\n",
       "    }\n",
       "\n",
       "    .dataframe thead th {\n",
       "        text-align: right;\n",
       "    }\n",
       "</style>\n",
       "<table border=\"1\" class=\"dataframe\">\n",
       "  <thead>\n",
       "    <tr style=\"text-align: right;\">\n",
       "      <th></th>\n",
       "      <th>drug</th>\n",
       "      <th>publications</th>\n",
       "    </tr>\n",
       "  </thead>\n",
       "  <tbody>\n",
       "    <tr>\n",
       "      <th>0</th>\n",
       "      <td>DIPHENHYDRAMINE</td>\n",
       "      <td>[{'date': '01/01/2019', 'journal': 'Journal of...</td>\n",
       "    </tr>\n",
       "    <tr>\n",
       "      <th>1</th>\n",
       "      <td>TETRACYCLINE</td>\n",
       "      <td>[{'date': '01/01/2020', 'journal': 'Journal of...</td>\n",
       "    </tr>\n",
       "    <tr>\n",
       "      <th>2</th>\n",
       "      <td>ETHANOL</td>\n",
       "      <td>[{'date': '01/01/2020', 'journal': 'Psychophar...</td>\n",
       "    </tr>\n",
       "    <tr>\n",
       "      <th>3</th>\n",
       "      <td>EPINEPHRINE</td>\n",
       "      <td>[{'date': '02/01/2020', 'journal': 'The journa...</td>\n",
       "    </tr>\n",
       "    <tr>\n",
       "      <th>4</th>\n",
       "      <td>ISOPRENALINE</td>\n",
       "      <td>[{'date': '01/01/2020', 'journal': 'Journal of...</td>\n",
       "    </tr>\n",
       "  </tbody>\n",
       "</table>\n",
       "</div>"
      ],
      "text/plain": [
       "              drug                                       publications\n",
       "0  DIPHENHYDRAMINE  [{'date': '01/01/2019', 'journal': 'Journal of...\n",
       "1     TETRACYCLINE  [{'date': '01/01/2020', 'journal': 'Journal of...\n",
       "2          ETHANOL  [{'date': '01/01/2020', 'journal': 'Psychophar...\n",
       "3      EPINEPHRINE  [{'date': '02/01/2020', 'journal': 'The journa...\n",
       "4     ISOPRENALINE  [{'date': '01/01/2020', 'journal': 'Journal of..."
      ]
     },
     "execution_count": 2,
     "metadata": {},
     "output_type": "execute_result"
    }
   ],
   "source": [
    "json_df = pd.read_json(\"../\"+config[\"OUTPUT_FILE\"])\n",
    "json_df.head()"
   ]
  },
  {
   "cell_type": "markdown",
   "metadata": {},
   "source": [
    "## Extract the info\n",
    "\n",
    "Create a dataframe that containt unique number of publication mentions per drug."
   ]
  },
  {
   "cell_type": "code",
   "execution_count": 3,
   "metadata": {},
   "outputs": [
    {
     "name": "stdout",
     "output_type": "stream",
     "text": [
      "Exists\n",
      "Exists\n",
      "Exists\n",
      "Exists\n",
      "Exists\n"
     ]
    },
    {
     "data": {
      "text/html": [
       "<div>\n",
       "<style scoped>\n",
       "    .dataframe tbody tr th:only-of-type {\n",
       "        vertical-align: middle;\n",
       "    }\n",
       "\n",
       "    .dataframe tbody tr th {\n",
       "        vertical-align: top;\n",
       "    }\n",
       "\n",
       "    .dataframe thead th {\n",
       "        text-align: right;\n",
       "    }\n",
       "</style>\n",
       "<table border=\"1\" class=\"dataframe\">\n",
       "  <thead>\n",
       "    <tr style=\"text-align: right;\">\n",
       "      <th></th>\n",
       "      <th>drug</th>\n",
       "      <th>publication</th>\n",
       "    </tr>\n",
       "  </thead>\n",
       "  <tbody>\n",
       "    <tr>\n",
       "      <th>0</th>\n",
       "      <td>DIPHENHYDRAMINE</td>\n",
       "      <td>Journal of emergency nursing</td>\n",
       "    </tr>\n",
       "    <tr>\n",
       "      <th>1</th>\n",
       "      <td>DIPHENHYDRAMINE</td>\n",
       "      <td>The Journal of pediatrics</td>\n",
       "    </tr>\n",
       "    <tr>\n",
       "      <th>2</th>\n",
       "      <td>TETRACYCLINE</td>\n",
       "      <td>Journal of food protection</td>\n",
       "    </tr>\n",
       "    <tr>\n",
       "      <th>3</th>\n",
       "      <td>TETRACYCLINE</td>\n",
       "      <td>American journal of veterinary research</td>\n",
       "    </tr>\n",
       "    <tr>\n",
       "      <th>4</th>\n",
       "      <td>TETRACYCLINE</td>\n",
       "      <td>Psychopharmacology</td>\n",
       "    </tr>\n",
       "    <tr>\n",
       "      <th>5</th>\n",
       "      <td>ETHANOL</td>\n",
       "      <td>Psychopharmacology</td>\n",
       "    </tr>\n",
       "    <tr>\n",
       "      <th>6</th>\n",
       "      <td>EPINEPHRINE</td>\n",
       "      <td>The journal of allergy and clinical immunology...</td>\n",
       "    </tr>\n",
       "    <tr>\n",
       "      <th>7</th>\n",
       "      <td>EPINEPHRINE</td>\n",
       "      <td>Journal of emergency nursing</td>\n",
       "    </tr>\n",
       "    <tr>\n",
       "      <th>8</th>\n",
       "      <td>ISOPRENALINE</td>\n",
       "      <td>Journal of photochemistry and photobiology. B,...</td>\n",
       "    </tr>\n",
       "    <tr>\n",
       "      <th>9</th>\n",
       "      <td>BETAMETHASONE</td>\n",
       "      <td>Hôpitaux Universitaires de Genève</td>\n",
       "    </tr>\n",
       "    <tr>\n",
       "      <th>10</th>\n",
       "      <td>BETAMETHASONE</td>\n",
       "      <td>The journal of maternal-fetal &amp; neonatal medicine</td>\n",
       "    </tr>\n",
       "    <tr>\n",
       "      <th>11</th>\n",
       "      <td>BETAMETHASONE</td>\n",
       "      <td>Journal of back and musculoskeletal rehabilita...</td>\n",
       "    </tr>\n",
       "  </tbody>\n",
       "</table>\n",
       "</div>"
      ],
      "text/plain": [
       "               drug                                        publication\n",
       "0   DIPHENHYDRAMINE                       Journal of emergency nursing\n",
       "1   DIPHENHYDRAMINE                          The Journal of pediatrics\n",
       "2      TETRACYCLINE                         Journal of food protection\n",
       "3      TETRACYCLINE            American journal of veterinary research\n",
       "4      TETRACYCLINE                                 Psychopharmacology\n",
       "5           ETHANOL                                 Psychopharmacology\n",
       "6       EPINEPHRINE  The journal of allergy and clinical immunology...\n",
       "7       EPINEPHRINE                       Journal of emergency nursing\n",
       "8      ISOPRENALINE  Journal of photochemistry and photobiology. B,...\n",
       "9     BETAMETHASONE                  Hôpitaux Universitaires de Genève\n",
       "10    BETAMETHASONE  The journal of maternal-fetal & neonatal medicine\n",
       "11    BETAMETHASONE  Journal of back and musculoskeletal rehabilita..."
      ]
     },
     "execution_count": 3,
     "metadata": {},
     "output_type": "execute_result"
    }
   ],
   "source": [
    "result = []\n",
    "result_df = pd.DataFrame(columns=['drug', 'publication'])\n",
    "\n",
    "for index, drug in json_df.iterrows():\n",
    "    for publication in drug[\"publications\"]:\n",
    "        if ((result_df['drug'] == drug[\"drug\"]) & (result_df['publication'] == publication[\"journal\"])).any():\n",
    "            print(\"Exists\")\n",
    "        else:\n",
    "            result_df.loc[len(result_df.index)] = [drug[\"drug\"], publication[\"journal\"]]\n",
    "        \n",
    "result_df.head(30)"
   ]
  },
  {
   "cell_type": "markdown",
   "metadata": {},
   "source": [
    "Use __mode()__ to extract the publication(s) that mention the most drugs."
   ]
  },
  {
   "cell_type": "code",
   "execution_count": 4,
   "metadata": {},
   "outputs": [
    {
     "data": {
      "text/plain": [
       "0    Journal of emergency nursing\n",
       "1              Psychopharmacology\n",
       "Name: publication, dtype: object"
      ]
     },
     "execution_count": 4,
     "metadata": {},
     "output_type": "execute_result"
    }
   ],
   "source": [
    "result_df['publication'].mode()"
   ]
  }
 ],
 "metadata": {
  "interpreter": {
   "hash": "dba5c215aa75612ec7b278bcc5443e35d11aa3c6e84fe56fe1822ea03b8fb619"
  },
  "kernelspec": {
   "display_name": "Python 3.9.13 ('servier')",
   "language": "python",
   "name": "python3"
  },
  "language_info": {
   "codemirror_mode": {
    "name": "ipython",
    "version": 3
   },
   "file_extension": ".py",
   "mimetype": "text/x-python",
   "name": "python",
   "nbconvert_exporter": "python",
   "pygments_lexer": "ipython3",
   "version": "3.9.13"
  },
  "orig_nbformat": 4
 },
 "nbformat": 4,
 "nbformat_minor": 2
}
