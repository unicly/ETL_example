{
 "cells": [
  {
   "cell_type": "markdown",
   "metadata": {},
   "source": [
    " # SQL"
   ]
  },
  {
   "cell_type": "markdown",
   "metadata": {},
   "source": [
    "In this task a SQLite database is used. It is included in the reposiotory."
   ]
  },
  {
   "cell_type": "markdown",
   "metadata": {},
   "source": [
    "### Import libraries and set variables"
   ]
  },
  {
   "cell_type": "code",
   "execution_count": 2,
   "metadata": {},
   "outputs": [],
   "source": [
    "import sqlite3\n",
    "from tabulate import tabulate\n",
    "\n",
    "database_file = \"../sql/sales.sqlite3\""
   ]
  },
  {
   "cell_type": "markdown",
   "metadata": {},
   "source": [
    "### Create the database and insert the data"
   ]
  },
  {
   "cell_type": "markdown",
   "metadata": {},
   "source": [
    "#### Table **transactions**"
   ]
  },
  {
   "cell_type": "code",
   "execution_count": 3,
   "metadata": {},
   "outputs": [],
   "source": [
    "conn = sqlite3.connect(database_file)\n",
    "\n",
    "query = 'DROP TABLE IF EXISTS transactions;'\n",
    "conn.execute(query)\n",
    "\n",
    "query = 'CREATE TABLE transactions (\"id\" integer,\"date\" text,\"order_id\" integer,\"client_id\" integer,\"prod_price\" real,\"prod_qty\" integer, \"prod_id\" integer, PRIMARY KEY (\"id\"));'\n",
    "conn.execute(query)\n",
    "\n",
    "query = '''INSERT INTO transactions (\"id\", \"date\", \"order_id\", \"client_id\", \"prod_price\", \"prod_qty\", \"prod_id\") \n",
    "            VALUES\n",
    "                ('1', STRFTIME('%d/%m/%Y', '2020-01-01'), '1234', '999', '3.56', '4', '389728'),\n",
    "                ('2', STRFTIME('%d/%m/%Y', '2020-01-01'), '1234', '999', '50', '1', '490756'),\n",
    "                ('3', STRFTIME('%d/%m/%Y', '2020-01-01'), '3456', '845', '50', '2', '490756'),\n",
    "                ('4', STRFTIME('%d/%m/%Y', '2020-01-01'), '3456', '845', '300', '1', '549380'),\n",
    "                ('5', STRFTIME('%d/%m/%Y', '2020-01-01'), '3456', '845', '10', '6', '293718'),\n",
    "                ('6', STRFTIME('%d/%m/%Y', '2020-03-01'), '1234', '999', '50', '1', '490756'),\n",
    "                ('7', STRFTIME('%d/%m/%Y', '2020-03-01'), '3456', '845', '50', '2', '490756');'''\n",
    "conn.execute(query)\n",
    "\n",
    "conn.commit()\n",
    "conn.close()"
   ]
  },
  {
   "cell_type": "markdown",
   "metadata": {},
   "source": [
    "#### Table **product_nomenclature**"
   ]
  },
  {
   "cell_type": "code",
   "execution_count": 4,
   "metadata": {},
   "outputs": [],
   "source": [
    "conn = sqlite3.connect(database_file)\n",
    "\n",
    "query = 'DROP TABLE IF EXISTS product_nomenclature;'\n",
    "cursor = conn.execute(query)\n",
    "\n",
    "query = 'CREATE TABLE product_nomenclature (\"id\" integer, \"product_type\" varchar FIRST, \"product_name\" varchar FIRST, \"product_id\" integer FIRST, PRIMARY KEY (\"id\"));'\n",
    "cursor = conn.execute(query)\n",
    "\n",
    "query = '''INSERT INTO product_nomenclature (\"id\", \"product_type\", \"product_name\", \"product_id\") VALUES\n",
    "('1', 'DECO', 'Mug', '293718'),\n",
    "('2', 'DECO', 'Boule de Noël', '389728'),\n",
    "('3', 'MEUBLE', 'Chaise', '490756'),\n",
    "('4', 'MEUBLE', 'Canapé', '549380');'''\n",
    "cursor = conn.execute(query)\n",
    "\n",
    "conn.commit()\n",
    "conn.close()"
   ]
  },
  {
   "cell_type": "markdown",
   "metadata": {},
   "source": [
    "### Task 1.\n",
    "Start by making a simple SQL query to __find the turnover__ (the total amount of sales), __day by day__, from 1 January 2019 to 31 December 2019. \n",
    "\n",
    "The result will be sorted on the date the order was placed.\n",
    "\n",
    "The query must be clear: don't hesitate to use AS keywords to name the fields in SQL."
   ]
  },
  {
   "cell_type": "code",
   "execution_count": 5,
   "metadata": {},
   "outputs": [
    {
     "name": "stdout",
     "output_type": "stream",
     "text": [
      "date          ventes\n",
      "----------  --------\n",
      "2020-01-01    524.24\n",
      "2020-03-01    150\n"
     ]
    }
   ],
   "source": [
    "conn = sqlite3.connect(database_file)\n",
    "\n",
    "# The conversion of Y/m/d to Y-m-d with strftime() is in this case specific for SQLite, which is the database used for this demo.\n",
    "query = '''\n",
    "        SELECT strftime(\"%Y-%m-%d\",datetime(substr(date, 7, 4) || \"-\" || substr(date, 4, 2) || \"-\" || substr(date, 1, 2))) AS date, \n",
    "        SUM(prod_price * prod_qty) AS ventes\n",
    "        FROM transactions\n",
    "        WHERE date BETWEEN \"01/01/2020\" AND \"31/12/2020\"\n",
    "        GROUP BY date;'''\n",
    "\n",
    "cursor = conn.execute(query)\n",
    "results = cursor.fetchall()\n",
    "conn.close()\n",
    "\n",
    "print(tabulate(results, headers=[\"date\", \"ventes\"]))\n"
   ]
  },
  {
   "cell_type": "markdown",
   "metadata": {},
   "source": [
    "### Task 2.\n",
    "Carry out a slightly more complex query that makes it possible to __determine, by customer__ and over the period from 1 January 2019 to 31 December 2019, __the furniture and decoration sales__ made."
   ]
  },
  {
   "cell_type": "code",
   "execution_count": 6,
   "metadata": {},
   "outputs": [
    {
     "name": "stdout",
     "output_type": "stream",
     "text": [
      "  client_id    ventes_meubles    ventes_deco\n",
      "-----------  ----------------  -------------\n",
      "        845               500          60\n",
      "        999               100          14.24\n"
     ]
    }
   ],
   "source": [
    "conn = sqlite3.connect(database_file)\n",
    "\n",
    "query = '''\n",
    "        SELECT transactions.client_id AS client_id,\n",
    "            SUM(CASE\n",
    "                    WHEN product_nomenclature.product_type = \"MEUBLE\" \n",
    "                    THEN transactions.prod_price * transactions.prod_qty\n",
    "                    ELSE 0\n",
    "                END) AS ventes_meubles,\n",
    "            SUM(CASE\n",
    "                    WHEN product_nomenclature.product_type = \"DECO\" \n",
    "                    THEN transactions.prod_price * transactions.prod_qty\n",
    "                    ELSE 0\n",
    "                END) AS ventes_deco\n",
    "        FROM transactions\n",
    "        JOIN product_nomenclature ON transactions.prod_id = product_nomenclature.product_id\n",
    "        WHERE transactions.date BETWEEN \"01/01/2020\" AND \"31/12/2020\"\n",
    "        GROUP BY client_id\n",
    "        ORDER BY client_id;'''\n",
    "\n",
    "cursor = conn.execute(query)\n",
    "results = cursor.fetchall()\n",
    "conn.close()\n",
    "\n",
    "print(tabulate(results, headers=[\"client_id\", \"ventes_meubles\", \"ventes_deco\"]))"
   ]
  }
 ],
 "metadata": {
  "interpreter": {
   "hash": "dba5c215aa75612ec7b278bcc5443e35d11aa3c6e84fe56fe1822ea03b8fb619"
  },
  "kernelspec": {
   "display_name": "Python 3.9.13 ('servier')",
   "language": "python",
   "name": "python3"
  },
  "language_info": {
   "codemirror_mode": {
    "name": "ipython",
    "version": 3
   },
   "file_extension": ".py",
   "mimetype": "text/x-python",
   "name": "python",
   "nbconvert_exporter": "python",
   "pygments_lexer": "ipython3",
   "version": "3.9.13"
  },
  "orig_nbformat": 4
 },
 "nbformat": 4,
 "nbformat_minor": 2
}
